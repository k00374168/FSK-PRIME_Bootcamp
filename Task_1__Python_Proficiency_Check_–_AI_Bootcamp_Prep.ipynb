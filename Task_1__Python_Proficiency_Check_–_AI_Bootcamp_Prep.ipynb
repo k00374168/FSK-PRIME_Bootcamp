{
  "nbformat": 4,
  "nbformat_minor": 0,
  "metadata": {
    "colab": {
      "provenance": []
    },
    "kernelspec": {
      "name": "python3",
      "display_name": "Python 3"
    },
    "language_info": {
      "name": "python"
    }
  },
  "cells": [
    {
      "cell_type": "markdown",
      "source": [
        "# Task 1: Python Proficiency Check – AI Bootcamp Prep"
      ],
      "metadata": {
        "id": "L982FdumDCVn"
      }
    },
    {
      "cell_type": "markdown",
      "source": [
        "## Section 1: Basics & Control Flow"
      ],
      "metadata": {
        "id": "gk9AwRFXDO6n"
      }
    },
    {
      "cell_type": "markdown",
      "source": [
        "### **Task 1**: FizzBuzz with a Twist\n",
        "\n",
        "*Instruction*: Write a function that prints numbers from 1 to 50. For multiples of 3, print \"AI\", for multiples of 5 print \"Bootcamp\", and for multiples of both 3 and 5 print \"AI Bootcamp\"."
      ],
      "metadata": {
        "id": "tG2LLFb4DSrf"
      }
    },
    {
      "cell_type": "code",
      "source": [
        "def fizzbuzz_with_a_twist():\n",
        "    for i in range(1, 51):\n",
        "        if i % 3 == 0 and i % 5 == 0:\n",
        "            print(\"AI Bootcamp\")\n",
        "        elif i % 3 == 0:\n",
        "            print(\"AI\")\n",
        "        elif i % 5 == 0:\n",
        "            print(\"Bootcamp\")\n",
        "        else:\n",
        "            print(i)\n",
        "\n",
        "# Run the function\n",
        "fizzbuzz_with_a_twist()"
      ],
      "metadata": {
        "id": "G6YtbgenDSWH",
        "colab": {
          "base_uri": "https://localhost:8080/"
        },
        "outputId": "06d0cb2f-9f4f-4dfd-cab7-66f8631d0a6a"
      },
      "execution_count": null,
      "outputs": [
        {
          "output_type": "stream",
          "name": "stdout",
          "text": [
            "1\n",
            "2\n",
            "AI\n",
            "4\n",
            "Bootcamp\n",
            "AI\n",
            "7\n",
            "8\n",
            "AI\n",
            "Bootcamp\n",
            "11\n",
            "AI\n",
            "13\n",
            "14\n",
            "AI Bootcamp\n",
            "16\n",
            "17\n",
            "AI\n",
            "19\n",
            "Bootcamp\n",
            "AI\n",
            "22\n",
            "23\n",
            "AI\n",
            "Bootcamp\n",
            "26\n",
            "AI\n",
            "28\n",
            "29\n",
            "AI Bootcamp\n",
            "31\n",
            "32\n",
            "AI\n",
            "34\n",
            "Bootcamp\n",
            "AI\n",
            "37\n",
            "38\n",
            "AI\n",
            "Bootcamp\n",
            "41\n",
            "AI\n",
            "43\n",
            "44\n",
            "AI Bootcamp\n",
            "46\n",
            "47\n",
            "AI\n",
            "49\n",
            "Bootcamp\n"
          ]
        }
      ]
    },
    {
      "cell_type": "markdown",
      "source": [
        "### **Task 2**: List Comprehensions and Functions\n",
        "\n",
        "*Instruction*: Given a list of numbers, square only the even numbers using a list comprehension and define a function that returns the result."
      ],
      "metadata": {
        "id": "8YMADBQmDhHU"
      }
    },
    {
      "cell_type": "code",
      "execution_count": null,
      "metadata": {
        "id": "sPfpD1yF4LTO",
        "colab": {
          "base_uri": "https://localhost:8080/"
        },
        "outputId": "cde120a8-cdc8-43ed-c925-8083fdc3ec63"
      },
      "outputs": [
        {
          "output_type": "stream",
          "name": "stdout",
          "text": [
            "[4, 16, 36]\n"
          ]
        }
      ],
      "source": [
        "def square_even_numbers(numbers):\n",
        "    return [x**2 for x in numbers if x % 2 == 0]\n",
        "\n",
        "# Example usage:\n",
        "nums = [1, 2, 3, 4, 5, 6]\n",
        "result = square_even_numbers(nums)\n",
        "print(result)  # Output: [4, 16, 36]"
      ]
    },
    {
      "cell_type": "markdown",
      "source": [
        "## Section 2: Data Structures & File I/O"
      ],
      "metadata": {
        "id": "03CKwCBtDzRL"
      }
    },
    {
      "cell_type": "markdown",
      "source": [
        "### **Task 3**: Word Frequency from a File\n",
        "\n",
        "*Instruction*: Read the provided text file (Sample_For_Task1.txt) and return the 5 most common words (ignoring punctuation and case)."
      ],
      "metadata": {
        "id": "oh1W_9m5DuzF"
      }
    },
    {
      "cell_type": "code",
      "source": [
        "import string\n",
        "from collections import Counter\n",
        "\n",
        "# Step 1: Read the file\n",
        "with open('Sample_For_Task1.txt', 'r', encoding='utf-8') as file:\n",
        "    text = file.read()\n",
        "\n",
        "# Step 2: Clean the text\n",
        "text = text.lower()  # convert to lowercase\n",
        "text = text.translate(str.maketrans('', '', string.punctuation))  # remove punctuation\n",
        "\n",
        "# Step 3: Split into words\n",
        "words = text.split()\n",
        "\n",
        "# Step 4: Count word frequency\n",
        "word_counts = Counter(words)\n",
        "\n",
        "# Step 5: Get the 5 most common words\n",
        "most_common_words = word_counts.most_common(5)\n",
        "\n",
        "# Output the results\n",
        "for word, count in most_common_words:\n",
        "    print(f'{word}: {count}')"
      ],
      "metadata": {
        "id": "SQTsWR6GDn6e",
        "colab": {
          "base_uri": "https://localhost:8080/"
        },
        "outputId": "549eba93-8575-4d12-ddc1-28c2ab648129"
      },
      "execution_count": 27,
      "outputs": [
        {
          "output_type": "stream",
          "name": "stdout",
          "text": [
            "the: 5\n",
            "quick: 2\n",
            "fox: 2\n",
            "dog: 2\n",
            "and: 2\n"
          ]
        }
      ]
    },
    {
      "cell_type": "markdown",
      "source": [
        "## Section 3: NumPy & pandas"
      ],
      "metadata": {
        "id": "mVV1BgZvEE3a"
      }
    },
    {
      "cell_type": "markdown",
      "source": [
        "### **Task 4**: NumPy Matrix Magic\n",
        "\n",
        "*Instruction*: Create a 5x5 matrix with random integers from 1 to 10. Replace all elements greater than 5 with 0."
      ],
      "metadata": {
        "id": "opUK7Z7LEIr4"
      }
    },
    {
      "cell_type": "code",
      "source": [
        "import numpy as np\n",
        "\n",
        "# Step 1: Create a 5x5 matrix with random integers from 1 to 10\n",
        "matrix = np.random.randint(1, 11, (5, 5))\n",
        "\n",
        "# Step 2: Replace all elements greater than 5 with 0\n",
        "matrix[matrix > 5] = 0\n",
        "import numpy as np\n",
        "\n",
        "# Step 1: Create a 5x5 matrix with random integers from 1 to 10\n",
        "matrix = np.random.randint(1, 11, (5, 5))\n",
        "\n",
        "# Step 2: Replace all elements greater than 5 with 0\n",
        "matrix[matrix > 5] = 0\n",
        "\n",
        "print(matrix)\n",
        "# The problematic line was removed as it is unclear what operation was intended.\n",
        "# If you meant to print specific elements of the matrix you can do it like:\n",
        "# print(matrix[0, 0])  # Access element at row 0, column 0\n",
        "# print(matrix[1, 2])  # Access element at row 1, column 2"
      ],
      "metadata": {
        "id": "UW3FMdjQEEl3",
        "colab": {
          "base_uri": "https://localhost:8080/"
        },
        "outputId": "5032226e-a858-4092-c52b-d17a3e99799a"
      },
      "execution_count": null,
      "outputs": [
        {
          "output_type": "stream",
          "name": "stdout",
          "text": [
            "[[2 2 0 5 1]\n",
            " [1 0 3 0 5]\n",
            " [3 0 0 2 0]\n",
            " [0 5 1 4 3]\n",
            " [0 2 0 0 4]]\n"
          ]
        }
      ]
    },
    {
      "cell_type": "markdown",
      "source": [
        "### **Task 5**: pandas DataFrame Manipulation\n",
        "\n",
        "*Instruction*: Given the following dictionary, convert it into a DataFrame, calculate the average score per student, and add it as a new column."
      ],
      "metadata": {
        "id": "YuFv3sE6ET9d"
      }
    },
    {
      "cell_type": "code",
      "source": [
        "import pandas as pd\n",
        "\n",
        "# Given dictionary\n",
        "data = {\n",
        "    'Student': ['Alice', 'Bob', 'Charlie', 'David'],\n",
        "    'Math': [85, 78, 92, 88],\n",
        "    'Science': [90, 82, 87, 85],\n",
        "    'English': [88, 79, 85, 90]\n",
        "}\n",
        "\n",
        "# Step 1: Convert dictionary to DataFrame\n",
        "df = pd.DataFrame(data)\n",
        "\n",
        "# Step 2: Calculate the average score per student\n",
        "df['Average'] = df[['Math', 'Science', 'English']].mean(axis=1)\n",
        "\n",
        "# Step 3: Display the DataFrame\n",
        "print(df)\n"
      ],
      "metadata": {
        "id": "horbXH8iETuH",
        "colab": {
          "base_uri": "https://localhost:8080/"
        },
        "outputId": "9954dca3-0035-4816-c12e-75c6df95d195"
      },
      "execution_count": 28,
      "outputs": [
        {
          "output_type": "stream",
          "name": "stdout",
          "text": [
            "   Student  Math  Science  English    Average\n",
            "0    Alice    85       90       88  87.666667\n",
            "1      Bob    78       82       79  79.666667\n",
            "2  Charlie    92       87       85  88.000000\n",
            "3    David    88       85       90  87.666667\n"
          ]
        }
      ]
    },
    {
      "cell_type": "markdown",
      "source": [
        "## Section 4: Visualization & Logic"
      ],
      "metadata": {
        "id": "GNO0DPi3EpgF"
      }
    },
    {
      "cell_type": "markdown",
      "source": [
        "### **Task 6**: Simple Data Visualization\n",
        "\n",
        "*Instruction*: Use matplotlib to create a bar chart showing the average score per subject from the DataFrame in the previous task."
      ],
      "metadata": {
        "id": "W74DNGaJEtdj"
      }
    },
    {
      "cell_type": "code",
      "source": [
        "\n"
      ],
      "metadata": {
        "id": "aM8iWEAXEOmE",
        "colab": {
          "base_uri": "https://localhost:8080/",
          "height": 507
        },
        "outputId": "9442138a-cd24-4fbc-bcef-6d751a60b23f"
      },
      "execution_count": null,
      "outputs": [
        {
          "output_type": "display_data",
          "data": {
            "text/plain": [
              "<Figure size 800x500 with 1 Axes>"
            ],
            "image/png": "[encoded data removed]"
          },
          "metadata": {}
        }
      ]
    },
    {
      "cell_type": "markdown",
      "source": [
        "## Section 5: Mini-Project Challenge"
      ],
      "metadata": {
        "id": "yFxPFagsE9mS"
      }
    },
    {
      "cell_type": "markdown",
      "source": [
        "### **Task 7**: Build a Mini Calculator with Exception Handling\n",
        "\n",
        "*Instruction*: Write a function that takes two numbers and an operator as input (+, -, *, /). Return the result, and handle divide-by-zero and invalid operator cases with appropriate error messages."
      ],
      "metadata": {
        "id": "IZwIOzHXFD1a"
      }
    },
    {
      "cell_type": "code",
      "source": [
        "def mini_calculator(a, b, operator):\n",
        "    try:\n",
        "        if operator == '+':\n",
        "            return a + b\n",
        "        elif operator == '-':\n",
        "            return a - b\n",
        "        elif operator == '*':\n",
        "            return a * b\n",
        "        elif operator == '/':\n",
        "            if b == 0:\n",
        "                return \"Error: Division by zero is not allowed.\"\n",
        "            return a / b\n",
        "        else:\n",
        "            return \"Error: Invalid operator. Use +, -, *, or /.\"\n",
        "    except Exception as e:\n",
        "        return f\"An unexpected error occurred: {e}\"\n",
        "\n",
        "# Example usage\n",
        "print(mini_calculator(10, 5, '+'))  # 15\n",
        "print(mini_calculator(10, 0, '/'))  # Error: Division by zero is not allowed.\n",
        "print(mini_calculator(10, 5, '^'))  # Error: Invalid operator. Use +, -, *, or /.\n",
        "\n"
      ],
      "metadata": {
        "id": "VpUFTR1JFDWk",
        "colab": {
          "base_uri": "https://localhost:8080/"
        },
        "outputId": "031e4495-5b7f-42be-f54b-85c175ea0219"
      },
      "execution_count": 29,
      "outputs": [
        {
          "output_type": "stream",
          "name": "stdout",
          "text": [
            "15\n",
            "Error: Division by zero is not allowed.\n",
            "Error: Invalid operator. Use +, -, *, or /.\n"
          ]
        }
      ]
    }
  ]
}